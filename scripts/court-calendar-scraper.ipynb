{
 "cells": [
  {
   "cell_type": "markdown",
   "metadata": {},
   "source": [
    "### Libraries"
   ]
  },
  {
   "cell_type": "code",
   "execution_count": 1,
   "metadata": {},
   "outputs": [],
   "source": [
    "# packages to install\n",
    "\n",
    "from bs4 import BeautifulSoup\n",
    "from tqdm import tqdm\n",
    "import pandas as pd\n",
    "import requests\n",
    "import re\n",
    "from datetime import datetime\n",
    "import pathlib\n"
   ]
  },
  {
   "cell_type": "code",
   "execution_count": 2,
   "metadata": {},
   "outputs": [
    {
     "name": "stdout",
     "output_type": "stream",
     "text": [
      "<Response [200]>\n"
     ]
    }
   ],
   "source": [
    "url = 'https://ecf.dcd.uscourts.gov/cgi-bin/CourtSched.pl'\n",
    "page = requests.get(url)\n",
    "\n"
   ]
  },
  {
   "cell_type": "code",
   "execution_count": 3,
   "metadata": {},
   "outputs": [],
   "source": [
    "soup = BeautifulSoup(page.text, 'html.parser')"
   ]
  },
  {
   "cell_type": "code",
   "execution_count": 4,
   "metadata": {},
   "outputs": [
    {
     "data": {
      "text/plain": [
       "datetime.datetime(2022, 7, 21, 0, 0)"
      ]
     },
     "execution_count": 4,
     "metadata": {},
     "output_type": "execute_result"
    }
   ],
   "source": [
    "table = soup.find(\"table\", {\"id\":\"ts\"})\n",
    "date = soup.find(\"b\").text.split(\":\")[1]\n",
    "date = \" \".join(date.split())\n",
    "formatted_date = datetime.strptime(date, '%A, %B %d, %Y')\n"
   ]
  },
  {
   "cell_type": "code",
   "execution_count": 5,
   "metadata": {},
   "outputs": [],
   "source": [
    "ls_table_tr = table.find_all(\"tr\")\n",
    "rows = []\n",
    "for tr in ls_table_tr:\n",
    "    row = []\n",
    "    count = 0\n",
    "    for child in tr.children:\n",
    "        if count == 0:\n",
    "            result = child.text.replace('\\n', '')\n",
    "            if result != \"\":\n",
    "                 row.append(result)\n",
    "        else: \n",
    "\n",
    "            try:\n",
    "                row.append(child.text.replace('\\n', ''))\n",
    "            except:\n",
    "                continue\n",
    "\n",
    "    count = count + 1\n",
    "    if len(row) > 0:\n",
    "        rows.append(row)\n",
    "df = pd.DataFrame(rows[1:], columns = rows[0])"
   ]
  },
  {
   "cell_type": "code",
   "execution_count": 6,
   "metadata": {},
   "outputs": [],
   "source": [
    "df[['Case Number', 'Title']] = df['Case Number and Title'].str.split(':', expand=True)"
   ]
  },
  {
   "cell_type": "code",
   "execution_count": 7,
   "metadata": {},
   "outputs": [],
   "source": [
    "df[\"Date\"] = formatted_date"
   ]
  },
  {
   "cell_type": "code",
   "execution_count": null,
   "metadata": {},
   "outputs": [],
   "source": [
    "df"
   ]
  },
  {
   "cell_type": "code",
   "execution_count": 18,
   "metadata": {},
   "outputs": [],
   "source": [
    "\n",
    "file_date = formatted_date.strftime(\"%Y-%m-%d\")\n",
    "path = pathlib.Path(f\"../data/days/{file_date}-court_calendar.csv\")\n",
    "df.to_csv(path, index = False)"
   ]
  }
 ],
 "metadata": {
  "kernelspec": {
   "display_name": "Python 3.10.0 ('scripts-WSjW-6hr')",
   "language": "python",
   "name": "python3"
  },
  "language_info": {
   "codemirror_mode": {
    "name": "ipython",
    "version": 3
   },
   "file_extension": ".py",
   "mimetype": "text/x-python",
   "name": "python",
   "nbconvert_exporter": "python",
   "pygments_lexer": "ipython3",
   "version": "3.10.0"
  },
  "orig_nbformat": 4,
  "vscode": {
   "interpreter": {
    "hash": "cda9aa21fedee61ff06dc5c8f14f06be6f44c766fb9cd8f542c5893428441f0e"
   }
  }
 },
 "nbformat": 4,
 "nbformat_minor": 2
}
